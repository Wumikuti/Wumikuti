{
  "metadata": {
    "kernelspec": {
      "name": "python",
      "display_name": "Python (Pyodide)",
      "language": "python"
    },
    "language_info": {
      "codemirror_mode": {
        "name": "python",
        "version": 3
      },
      "file_extension": ".py",
      "mimetype": "text/x-python",
      "name": "python",
      "nbconvert_exporter": "python",
      "pygments_lexer": "ipython3",
      "version": "3.8"
    }
  },
  "nbformat_minor": 5,
  "nbformat": 4,
  "cells": [
    {
      "id": "6ce24068-a46b-49ba-94e7-5bef3acbaceb",
      "cell_type": "markdown",
      "source": "# Data Science Tools and Ecosystem",
      "metadata": {}
    },
    {
      "id": "c8d37714-b464-4606-a7e8-56a614ad454d",
      "cell_type": "markdown",
      "source": "In this notebook, Data Science Tools and Ecosystem are summarized",
      "metadata": {}
    },
    {
      "id": "b55cfbd2-4573-4afd-bd99-98c567288754",
      "cell_type": "markdown",
      "source": "**Objectives:**",
      "metadata": {}
    },
    {
      "id": "14384096-f727-404a-86c3-9aadad718eef",
      "cell_type": "markdown",
      "source": "- List popular languages for Data Science\n- List the open source data management tools\n- List the Data visualization tools\n- List the roles involved in Data Science",
      "metadata": {}
    },
    {
      "id": "908622e7-4ff1-4fb6-a8bf-4f52d39f18e3",
      "cell_type": "markdown",
      "source": "Some of the popular languages that Data scientists use are:\n1. Python\n2. R language\n3. SQL\n4. scala\n5. Java etc",
      "metadata": {}
    },
    {
      "id": "5cd2e3e6-6eda-4ff2-857c-874491e1073b",
      "cell_type": "markdown",
      "source": "Some of the commonly used libraries used by Data scientist include:\n1. Pandas\n2. Numpy\n3. Matplotlib\n4. Seaborn\n5. Apache Spark",
      "metadata": {}
    },
    {
      "id": "04415411-6b9a-4512-b3c5-2d058abb2b08",
      "cell_type": "markdown",
      "source": "|Data Science Tools|\n|------------------|",
      "metadata": {}
    },
    {
      "id": "e587477c-c05f-4982-b07c-6f9f16c42ddd",
      "cell_type": "markdown",
      "source": "Jupyter",
      "metadata": {}
    },
    {
      "id": "68c22b37-5a3b-4079-9fe8-1b2aa6319949",
      "cell_type": "markdown",
      "source": "RStudio",
      "metadata": {}
    },
    {
      "id": "44d75c5c-90ac-4756-b0fd-c0687467579c",
      "cell_type": "markdown",
      "source": "Vs Code",
      "metadata": {}
    },
    {
      "id": "dd389678-c4b5-427f-a941-0e0c8116e46e",
      "cell_type": "markdown",
      "source": "### Below are a few examples of evaluating arithmetic expressions in Python",
      "metadata": {}
    },
    {
      "id": "92a9a85a-4d81-480c-8135-9025e566807e",
      "cell_type": "code",
      "source": "2+3",
      "metadata": {
        "trusted": true
      },
      "outputs": [
        {
          "execution_count": 1,
          "output_type": "execute_result",
          "data": {
            "text/plain": "5"
          },
          "metadata": {}
        }
      ],
      "execution_count": 1
    },
    {
      "id": "d8d9d901-2f27-4880-a1c8-33709da47472",
      "cell_type": "code",
      "source": "4-3",
      "metadata": {
        "trusted": true
      },
      "outputs": [
        {
          "execution_count": 2,
          "output_type": "execute_result",
          "data": {
            "text/plain": "1"
          },
          "metadata": {}
        }
      ],
      "execution_count": 2
    },
    {
      "id": "7d79d992-035e-4cd3-a8de-1f4159b7c74e",
      "cell_type": "code",
      "source": "8*2",
      "metadata": {
        "trusted": true
      },
      "outputs": [
        {
          "execution_count": 3,
          "output_type": "execute_result",
          "data": {
            "text/plain": "16"
          },
          "metadata": {}
        }
      ],
      "execution_count": 3
    },
    {
      "id": "3ccd76e3-47ae-4c2d-ac93-87cc21b394ba",
      "cell_type": "markdown",
      "source": "This is a simple arithmetic expression to multiply then add integers",
      "metadata": {}
    },
    {
      "id": "2aab9928-8295-47a9-a409-c1d6973bb0d5",
      "cell_type": "code",
      "source": "(3*4) + 5",
      "metadata": {
        "trusted": true
      },
      "outputs": [
        {
          "execution_count": 4,
          "output_type": "execute_result",
          "data": {
            "text/plain": "17"
          },
          "metadata": {}
        }
      ],
      "execution_count": 4
    },
    {
      "id": "6fc8e799-0ef8-47cf-8887-edf57cde6b88",
      "cell_type": "markdown",
      "source": "This will convert 200minutes to hours by dividing by 60",
      "metadata": {}
    },
    {
      "id": "e039bde0-a87c-4383-a2c7-710814b3fed9",
      "cell_type": "code",
      "source": "200/60",
      "metadata": {
        "trusted": true
      },
      "outputs": [
        {
          "execution_count": 6,
          "output_type": "execute_result",
          "data": {
            "text/plain": "3.3333333333333335"
          },
          "metadata": {}
        }
      ],
      "execution_count": 6
    },
    {
      "id": "f2a8c439-c599-4ed8-b864-95243debed1d",
      "cell_type": "markdown",
      "source": "## Author",
      "metadata": {}
    },
    {
      "id": "76c3b080-e3bb-4573-94e7-5765aa52cb59",
      "cell_type": "markdown",
      "source": "Kuti Omowumi",
      "metadata": {}
    },
    {
      "id": "1a42fb7a-4cbd-4482-b0af-2b5ddbcbf8f8",
      "cell_type": "code",
      "source": "",
      "metadata": {
        "trusted": true
      },
      "outputs": [],
      "execution_count": null
    }
  ]
}